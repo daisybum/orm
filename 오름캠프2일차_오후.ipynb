{
  "nbformat": 4,
  "nbformat_minor": 0,
  "metadata": {
    "colab": {
      "provenance": [],
      "authorship_tag": "ABX9TyMN1rXnIMQAZg/m8+6ZrWMM",
      "include_colab_link": true
    },
    "kernelspec": {
      "name": "python3",
      "display_name": "Python 3"
    },
    "language_info": {
      "name": "python"
    }
  },
  "cells": [
    {
      "cell_type": "markdown",
      "metadata": {
        "id": "view-in-github",
        "colab_type": "text"
      },
      "source": [
        "<a href=\"https://colab.research.google.com/github/daisybum/orm/blob/main/%EC%98%A4%EB%A6%84%EC%BA%A0%ED%94%842%EC%9D%BC%EC%B0%A8_%EC%98%A4%ED%9B%84.ipynb\" target=\"_parent\"><img src=\"https://colab.research.google.com/assets/colab-badge.svg\" alt=\"Open In Colab\"/></a>"
      ]
    },
    {
      "cell_type": "code",
      "execution_count": 1,
      "metadata": {
        "colab": {
          "base_uri": "https://localhost:8080/"
        },
        "id": "mXowQ4X8Dx81",
        "outputId": "7d3d9833-12e1-49bc-a149-a2719d5c96cf"
      },
      "outputs": [
        {
          "output_type": "stream",
          "name": "stdout",
          "text": [
            "Hello, world 1\n",
            "Hello, world 2\n"
          ]
        }
      ],
      "source": [
        "# 이것은 주석입니다.\n",
        "print(\"Hello, world 1\")  # 이것도 주석입니다.\n",
        "print(\"Hello, world 2\")"
      ]
    },
    {
      "cell_type": "code",
      "source": [
        "'''\n",
        "print(\"Hello, world 1\")\n",
        "print(\"Hello, world 2\")\n",
        "'''"
      ],
      "metadata": {
        "colab": {
          "base_uri": "https://localhost:8080/",
          "height": 35
        },
        "id": "j2i10BiZEAuS",
        "outputId": "69c1d81c-54de-4830-9a7f-ac2c1ba5bad7"
      },
      "execution_count": 2,
      "outputs": [
        {
          "output_type": "execute_result",
          "data": {
            "text/plain": [
              "'\\nprint(\"Hello, world 1\")\\nprint(\"Hello, world 2\")\\n'"
            ],
            "application/vnd.google.colaboratory.intrinsic+json": {
              "type": "string"
            }
          },
          "metadata": {},
          "execution_count": 2
        }
      ]
    },
    {
      "cell_type": "code",
      "source": [
        "# 여러줄 출력\n",
        "'출력합니다.'\n",
        "'출력합니다.'"
      ],
      "metadata": {
        "colab": {
          "base_uri": "https://localhost:8080/",
          "height": 35
        },
        "id": "NMRzZ-OYFOhy",
        "outputId": "a677717a-4208-41f9-f8a9-9e76ab8e8c5b"
      },
      "execution_count": 3,
      "outputs": [
        {
          "output_type": "execute_result",
          "data": {
            "text/plain": [
              "'출력합니다.'"
            ],
            "application/vnd.google.colaboratory.intrinsic+json": {
              "type": "string"
            }
          },
          "metadata": {},
          "execution_count": 3
        }
      ]
    },
    {
      "cell_type": "code",
      "source": [
        "# 2. 여러값 출력\n",
        "print(\"hello\", \"world\", \"!\")"
      ],
      "metadata": {
        "colab": {
          "base_uri": "https://localhost:8080/"
        },
        "id": "Bx0XPfUuPnwq",
        "outputId": "3073d322-6aa0-44b6-a1e6-81acf5efffbe"
      },
      "execution_count": 4,
      "outputs": [
        {
          "output_type": "stream",
          "name": "stdout",
          "text": [
            "hello world !\n"
          ]
        }
      ]
    },
    {
      "cell_type": "code",
      "source": [
        "# 3. sep 구분자\n",
        "print(\"hello\", \"world\", \"!\", sep=\"#\")"
      ],
      "metadata": {
        "colab": {
          "base_uri": "https://localhost:8080/"
        },
        "id": "ciTq58OdP0Qr",
        "outputId": "dc2457e5-2e75-4b76-cef6-97239ef50462"
      },
      "execution_count": 5,
      "outputs": [
        {
          "output_type": "stream",
          "name": "stdout",
          "text": [
            "hello#world#!\n"
          ]
        }
      ]
    },
    {
      "cell_type": "code",
      "source": [],
      "metadata": {
        "id": "OiX2l342P-mw"
      },
      "execution_count": null,
      "outputs": []
    }
  ]
}