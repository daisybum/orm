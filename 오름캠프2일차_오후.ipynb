{
  "nbformat": 4,
  "nbformat_minor": 0,
  "metadata": {
    "colab": {
      "provenance": [],
      "authorship_tag": "ABX9TyMsp9TsAWF103typhnGai0+",
      "include_colab_link": true
    },
    "kernelspec": {
      "name": "python3",
      "display_name": "Python 3"
    },
    "language_info": {
      "name": "python"
    }
  },
  "cells": [
    {
      "cell_type": "markdown",
      "metadata": {
        "id": "view-in-github",
        "colab_type": "text"
      },
      "source": [
        "<a href=\"https://colab.research.google.com/github/daisybum/orm/blob/main/%EC%98%A4%EB%A6%84%EC%BA%A0%ED%94%842%EC%9D%BC%EC%B0%A8_%EC%98%A4%ED%9B%84.ipynb\" target=\"_parent\"><img src=\"https://colab.research.google.com/assets/colab-badge.svg\" alt=\"Open In Colab\"/></a>"
      ]
    },
    {
      "cell_type": "code",
      "execution_count": 1,
      "metadata": {
        "colab": {
          "base_uri": "https://localhost:8080/"
        },
        "id": "mXowQ4X8Dx81",
        "outputId": "7d3d9833-12e1-49bc-a149-a2719d5c96cf"
      },
      "outputs": [
        {
          "output_type": "stream",
          "name": "stdout",
          "text": [
            "Hello, world 1\n",
            "Hello, world 2\n"
          ]
        }
      ],
      "source": [
        "# 이것은 주석입니다.\n",
        "print(\"Hello, world 1\")  # 이것도 주석입니다.\n",
        "print(\"Hello, world 2\")"
      ]
    },
    {
      "cell_type": "code",
      "source": [
        "'''\n",
        "print(\"Hello, world 1\")\n",
        "print(\"Hello, world 2\")\n",
        "'''"
      ],
      "metadata": {
        "colab": {
          "base_uri": "https://localhost:8080/",
          "height": 35
        },
        "id": "j2i10BiZEAuS",
        "outputId": "69c1d81c-54de-4830-9a7f-ac2c1ba5bad7"
      },
      "execution_count": 2,
      "outputs": [
        {
          "output_type": "execute_result",
          "data": {
            "text/plain": [
              "'\\nprint(\"Hello, world 1\")\\nprint(\"Hello, world 2\")\\n'"
            ],
            "application/vnd.google.colaboratory.intrinsic+json": {
              "type": "string"
            }
          },
          "metadata": {},
          "execution_count": 2
        }
      ]
    },
    {
      "cell_type": "code",
      "source": [],
      "metadata": {
        "id": "NMRzZ-OYFOhy"
      },
      "execution_count": null,
      "outputs": []
    }
  ]
}