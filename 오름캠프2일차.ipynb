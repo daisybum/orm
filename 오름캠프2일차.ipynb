{
  "nbformat": 4,
  "nbformat_minor": 0,
  "metadata": {
    "colab": {
      "provenance": [],
      "authorship_tag": "ABX9TyNc9xNo7RCP2axAOUrToTW4",
      "include_colab_link": true
    },
    "kernelspec": {
      "name": "python3",
      "display_name": "Python 3"
    },
    "language_info": {
      "name": "python"
    }
  },
  "cells": [
    {
      "cell_type": "markdown",
      "metadata": {
        "id": "view-in-github",
        "colab_type": "text"
      },
      "source": [
        "<a href=\"https://colab.research.google.com/github/daisybum/orm/blob/main/%EC%98%A4%EB%A6%84%EC%BA%A0%ED%94%842%EC%9D%BC%EC%B0%A8.ipynb\" target=\"_parent\"><img src=\"https://colab.research.google.com/assets/colab-badge.svg\" alt=\"Open In Colab\"/></a>"
      ]
    },
    {
      "cell_type": "code",
      "execution_count": 1,
      "metadata": {
        "colab": {
          "base_uri": "https://localhost:8080/"
        },
        "id": "knQWa5lT8FC_",
        "outputId": "f8b3aa20-7aa7-4284-8ab7-a912a45388f2"
      },
      "outputs": [
        {
          "output_type": "stream",
          "name": "stdout",
          "text": [
            "Hello world\n"
          ]
        }
      ],
      "source": [
        "print(\"Hello world\")"
      ]
    },
    {
      "cell_type": "markdown",
      "source": [
        "# 1. 구글 코랩 기초 사용법\n",
        "\n",
        "맥북은 cmd 윈도우는 ctrl\n",
        "  1. (필수) Ctrl + Enter: 해당 셀 실행\n",
        "  2. (필수) Alt + Enter: 해당 셀 실행 + 코드 블록 하단 추가"
      ],
      "metadata": {
        "id": "Q9ky3Flp9vO_"
      }
    },
    {
      "cell_type": "markdown",
      "source": [
        "3. Ctrl + M, A: 코드 셀 위에 삽입\n",
        "4. Ctrl + M, B: 코드 셀 아래 삽입\n",
        "5. Ctrl + M, D: 셀 지우기\n",
        "6. Ctrl + M, Y: 코드 셀로 변경\n",
        "7. Ctrl + M, M: 마크다운으로 변경\n",
        "8. Ctrl + M, Z: 실행 취소"
      ],
      "metadata": {
        "id": "vZDF6tg9_WFL"
      }
    },
    {
      "cell_type": "markdown",
      "source": [
        "# 3. 수정 관련된 단축키\n",
        "1. Ctrl(Command) + Alt(Option) + 화살표위아래 : 동시 수정\n",
        "## 자주 쓰는 예시 필요\n",
        "2. (자주) Ctrl(Command) + D : 같은 단어 찾아 동시 수정\n",
        "3. Ctrl(Command) + Shift + L : 동일 단어를 전체로 찾아 동시 수정\n",
        "4. Alt(Option) + Shift + 화살표위아래 : 해당내용을 위나 아래 복사해서 붙여넣기\n",
        "5. Alt(Option) + 화살표위아래 : 해당 내용을 위나 아래로 보내기\n",
        "6. (자주) Ctrl(Command) + Alt(Option) + 화살표위아래 : 위아래 동시 수정\n",
        "7. (자주) Home, End : 문장의 양 끝\n",
        "8. (필수) Ctrl + / : 주석\n",
        "9. (필수) Shift(cmd) + Del : 한 줄 지우기\n",
        "10. (필수) Tab, Ctrl + ] : 들여쓰기\n",
        "11. (필수) Shift + Tab, Ctrl + [ : 내어쓰기"
      ],
      "metadata": {
        "id": "AX6_P26j_LhG"
      }
    },
    {
      "cell_type": "markdown",
      "source": [
        "# 4. 마크다운\n",
        "## 4.1 헤더\n",
        "### 4.1.1 사용법"
      ],
      "metadata": {
        "id": "i-1paJvuC9SW"
      }
    },
    {
      "cell_type": "markdown",
      "source": [
        "## 4.2 강조\n",
        "\n",
        "강조\n",
        "*강조*\n",
        "**강조**\n",
        "***강조***"
      ],
      "metadata": {
        "id": "gvZzmfo6KhRx"
      }
    },
    {
      "cell_type": "markdown",
      "source": [
        "# 4.4 링크\n",
        "  * 사용법: !(url) 형식을 사용하여 하이퍼링크를 삽입\n",
        "  * ![챗GPT](https://chat.openai.com/c/c137ea8f-0d90-47c1-8ce5-3ad8e91cdce8)\n",
        "  * ![대체텍스트](https://images.unsplash.com/photo-1528301721190-186c3bd85418?q=80&w=1000&auto=format&fit=crop&ixlib=rb-4.0.3&ixid=M3wxMjA3fDB8MHxleHBsb3JlLWZlZWR8Mnx8fGVufDB8fHx8fA%3D%3D)"
      ],
      "metadata": {
        "id": "NLlubnsyMCx6"
      }
    },
    {
      "cell_type": "markdown",
      "source": [
        "# 4.6 코드\n",
        "  - **인라인 코드**: `를 사용하여 텍스트 내에 코드를 삽입합니다.\n",
        "  - **코드 블록**: 여러 줄의 코드를 나타낼 때는 `````를 사용하여 삽입합니다.\n",
        "\n",
        "  `print('some')`"
      ],
      "metadata": {
        "id": "w25WalHWMTA3"
      }
    },
    {
      "cell_type": "markdown",
      "source": [
        "# 4.7 기타\n",
        "\n",
        "* 취소선 ~~취소선~~\n",
        "---\n",
        "* 인용문\n",
        "> 인용문 1입니다.\n",
        ">> 인용문 1-1입니다.\n",
        "---\n",
        "* 구분선\n",
        "---"
      ],
      "metadata": {
        "id": "Q4oHFXs5Nh9l"
      }
    }
  ]
}